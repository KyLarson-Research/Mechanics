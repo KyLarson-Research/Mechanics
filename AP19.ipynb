{
 "cells": [
  {
   "cell_type": "code",
   "execution_count": 43,
   "metadata": {},
   "outputs": [],
   "source": [
    "# Authored by Kyle \"Kuschelbär\" Larson \n",
    "# 3-30-2022\n",
    "\n",
    "# Two figure skaters are separated by a rough patch of ice \n",
    "\n",
    "# the first skates,hits rough patch,and embraces the other carrying them both under original momentum\n",
    "\n",
    "# write and plot a model for the velocity of their center of mass\n",
    "\n",
    "# Declaring a step width for time using the variable h in tenths of a second\n",
    "import numpy as np\n",
    "h_A = np.arange(0, 4, .1)\n",
    "h_B = np.arange(4, 8, .1)\n",
    "h_C = np.arange(8, 12, .1)\n",
    "h_D = np.arange(12, 16, .1)\n",
    "h_E = np.arange(16, 20, .1)\n",
    "# Declare starting distanc for Second Skater\n",
    "X_2 = 20\n",
    "# Declaring variable for push off of skater 1 in Newtons\n",
    "F = 72\n",
    "\n",
    "# Declaring mass of Skaters in kg\n",
    "M_1 = 72\n",
    "M_2 = 72\n"
   ]
  },
  {
   "cell_type": "code",
   "execution_count": 2,
   "metadata": {},
   "outputs": [
    {
     "data": {
      "text/plain": [
       "array([0. , 0.1, 0.2, 0.3, 0.4, 0.5, 0.6, 0.7, 0.8, 0.9, 1. , 1.1, 1.2,\n",
       "       1.3, 1.4, 1.5, 1.6, 1.7, 1.8, 1.9, 2. , 2.1, 2.2, 2.3, 2.4, 2.5,\n",
       "       2.6, 2.7, 2.8, 2.9, 3. , 3.1, 3.2, 3.3, 3.4, 3.5, 3.6, 3.7, 3.8,\n",
       "       3.9])"
      ]
     },
     "execution_count": 2,
     "metadata": {},
     "output_type": "execute_result"
    }
   ],
   "source": [
    "h_A"
   ]
  },
  {
   "cell_type": "code",
   "execution_count": 3,
   "metadata": {},
   "outputs": [
    {
     "data": {
      "text/plain": [
       "array([0. , 0.1, 0.2, 0.3, 0.4, 0.5, 0.6, 0.7, 0.8, 0.9, 1. , 1.1, 1.2,\n",
       "       1.3, 1.4, 1.5, 1.6, 1.7, 1.8, 1.9, 2. , 2.1, 2.2, 2.3, 2.4, 2.5,\n",
       "       2.6, 2.7, 2.8, 2.9, 3. , 3.1, 3.2, 3.3, 3.4, 3.5, 3.6, 3.7, 3.8,\n",
       "       3.9])"
      ]
     },
     "execution_count": 3,
     "metadata": {},
     "output_type": "execute_result"
    }
   ],
   "source": [
    "# STEP 1 Calculate the plunger-section velocity and center-of-mass (COM) velocity of skater 1\n",
    "# Constant accelaration due to constant force is Velocity = Integral of Accelration over time\n",
    "V_1_A = (F/M_1)*h_A\n",
    "V_1_A"
   ]
  },
  {
   "cell_type": "code",
   "execution_count": 4,
   "metadata": {},
   "outputs": [
    {
     "data": {
      "text/plain": [
       "array([0.  , 0.05, 0.1 , 0.15, 0.2 , 0.25, 0.3 , 0.35, 0.4 , 0.45, 0.5 ,\n",
       "       0.55, 0.6 , 0.65, 0.7 , 0.75, 0.8 , 0.85, 0.9 , 0.95, 1.  , 1.05,\n",
       "       1.1 , 1.15, 1.2 , 1.25, 1.3 , 1.35, 1.4 , 1.45, 1.5 , 1.55, 1.6 ,\n",
       "       1.65, 1.7 , 1.75, 1.8 , 1.85, 1.9 , 1.95])"
      ]
     },
     "execution_count": 4,
     "metadata": {},
     "output_type": "execute_result"
    }
   ],
   "source": [
    "# Velocity of Center of Mass\n",
    "# Assuming skater 2 is starting at rest\n",
    "V_2_A = 0\n",
    "V_CM_A = (M_1*V_1_A + M_2*V_2_A)/(M_1+M_2)\n",
    "V_CM_A\n",
    "# NOTE: The above is X_CM = M1X1 + M2X2 / M1+M2 differentiated with respect to time\n",
    "# Distance\n",
    "# X_CM = V_CM*h_A\n",
    "# X_CM"
   ]
  },
  {
   "cell_type": "code",
   "execution_count": 14,
   "metadata": {},
   "outputs": [
    {
     "name": "stdout",
     "output_type": "stream",
     "text": [
      "V_1_B: 3.9000000000000004\n",
      "V_CM_B: 1.9500000000000002\n"
     ]
    }
   ],
   "source": [
    "# Step 2 \n",
    "# velocity remains constant for the first skater\n",
    "V_2_B = 0\n",
    "V_1_B = V_1_A[len(V_1_A)-1]\n",
    "print(\"V_1_B: \"+str(V_1_B))\n",
    "# so does velocity for COM\n",
    "V_CM_B = (M_1*V_1_B+M_2*V_2_B)/(M_1+M_2)\n",
    "print(\"V_CM_B: \"+str(V_CM_B))\n",
    "# make it plottable\n",
    "V_CM_B = [V_CM_B]*len(V_CM_A)"
   ]
  },
  {
   "cell_type": "code",
   "execution_count": 69,
   "metadata": {},
   "outputs": [
    {
     "data": {
      "text/plain": [
       "array([3.9       , 3.88611111, 3.87222222, 3.85833333, 3.84444444,\n",
       "       3.83055556, 3.81666667, 3.80277778, 3.78888889, 3.775     ,\n",
       "       3.76111111, 3.74722222, 3.73333333, 3.71944444, 3.70555556,\n",
       "       3.69166667, 3.67777778, 3.66388889, 3.65      , 3.63611111,\n",
       "       3.62222222, 3.60833333, 3.59444444, 3.58055556, 3.56666667,\n",
       "       3.55277778, 3.53888889, 3.525     , 3.51111111, 3.49722222,\n",
       "       3.48333333, 3.46944444, 3.45555556, 3.44166667, 3.42777778,\n",
       "       3.41388889, 3.4       , 3.38611111, 3.37222222, 3.35833333])"
      ]
     },
     "execution_count": 69,
     "metadata": {},
     "output_type": "execute_result"
    }
   ],
   "source": [
    "# Step 3 \n",
    "# velcity for the first skater falls with rough patch as Friction force\n",
    "F_frict = 10\n",
    "V_1_C = V_1_B - (F_frict/M_1)*h_A\n",
    "V_1_C"
   ]
  },
  {
   "cell_type": "code",
   "execution_count": 70,
   "metadata": {},
   "outputs": [
    {
     "data": {
      "text/plain": [
       "array([1.95      , 1.94305556, 1.93611111, 1.92916667, 1.92222222,\n",
       "       1.91527778, 1.90833333, 1.90138889, 1.89444444, 1.8875    ,\n",
       "       1.88055556, 1.87361111, 1.86666667, 1.85972222, 1.85277778,\n",
       "       1.84583333, 1.83888889, 1.83194444, 1.825     , 1.81805556,\n",
       "       1.81111111, 1.80416667, 1.79722222, 1.79027778, 1.78333333,\n",
       "       1.77638889, 1.76944444, 1.7625    , 1.75555556, 1.74861111,\n",
       "       1.74166667, 1.73472222, 1.72777778, 1.72083333, 1.71388889,\n",
       "       1.70694444, 1.7       , 1.69305556, 1.68611111, 1.67916667])"
      ]
     },
     "execution_count": 70,
     "metadata": {},
     "output_type": "execute_result"
    }
   ],
   "source": [
    "# velocity of the COM also falls as energy is lost to heat\n",
    "V_2_C = 0\n",
    "V_CM_C = (M_1*V_1_C + M_2*V_2_C)/(M_1+M_2)\n",
    "V_CM_C"
   ]
  },
  {
   "cell_type": "code",
   "execution_count": 71,
   "metadata": {},
   "outputs": [
    {
     "name": "stdout",
     "output_type": "stream",
     "text": [
      "V_1_D: 3.3583333333333334\n",
      "V_CM_D: 1.6791666666666667\n"
     ]
    }
   ],
   "source": [
    "# Step 3 another constant section until moment of collision\n",
    "V_2_D = 0\n",
    "V_1_D = V_1_C[len(h_D)-1]\n",
    "print(\"V_1_D: \"+str(V_1_D))\n",
    "# so does velocity for COM\n",
    "V_CM_D = (M_1*V_1_D+M_2*V_2_D)/(M_1+M_2)\n",
    "print(\"V_CM_D: \"+str(V_CM_D))\n",
    "# make it plottable\n",
    "V_CM_D = [V_CM_D]*len(h_D)"
   ]
  },
  {
   "cell_type": "code",
   "execution_count": 72,
   "metadata": {},
   "outputs": [
    {
     "name": "stdout",
     "output_type": "stream",
     "text": [
      "V_CM_E: 1.6791666666666667\n"
     ]
    }
   ],
   "source": [
    "# Step 4 at moment of collision \n",
    "# kinnetic energy is lost! Momentum is conserved!\n",
    "V_CM_E = V_1_D*M_1 / (M_1+M_2)\n",
    "print(\"V_CM_E: \"+str(V_CM_E))\n",
    "V_CM_E = V_CM_D"
   ]
  },
  {
   "cell_type": "code",
   "execution_count": 73,
   "metadata": {},
   "outputs": [
    {
     "name": "stdout",
     "output_type": "stream",
     "text": [
      "200\n",
      "200\n"
     ]
    }
   ],
   "source": [
    "h = list(h_A)+list(h_B)+list(h_C)+list(h_D)+list(h_E)\n",
    "V_CM = list(V_CM_A)+list(V_CM_B)+list(V_CM_C)+list(V_CM_D)+list(V_CM_E)\n",
    "print(len(h))\n",
    "print(len(V_CM))"
   ]
  },
  {
   "cell_type": "code",
   "execution_count": 58,
   "metadata": {},
   "outputs": [
    {
     "data": {
      "text/plain": [
       "[0.0, 0.1, 0.2, 0.30000000000000004, 0.4]"
      ]
     },
     "execution_count": 58,
     "metadata": {},
     "output_type": "execute_result"
    }
   ],
   "source": []
  },
  {
   "cell_type": "code",
   "execution_count": 81,
   "metadata": {},
   "outputs": [],
   "source": [
    "scale = 10\n",
    "tA = h_A[len(h_A)-1]*scale\n",
    "tB = h_B[len(h_B)-1]*scale\n",
    "tC = h_C[len(h_C)-1]*scale\n",
    "tD = h_D[len(h_D)-1]*scale\n",
    "tE = h_E[len(h_E)-1]*scale"
   ]
  },
  {
   "cell_type": "code",
   "execution_count": 89,
   "metadata": {},
   "outputs": [
    {
     "data": {
      "image/png": "[encoded data removed]",
      "text/plain": [
       "<Figure size 1080x720 with 1 Axes>"
      ]
     },
     "metadata": {
      "needs_background": "light"
     },
     "output_type": "display_data"
    }
   ],
   "source": [
    "import matplotlib.pyplot as plt\n",
    "fig, ax = plt.subplots(figsize = (15, 10))\n",
    "ax.plot(V_CM, color='blue', label='Center of Mass Velocity')\n",
    "plt.xlim([0, 200])\n",
    "plt.axvline(x=tA, color='r', label='tB')\n",
    "plt.axvline(x=tB, color='b', label='tC')\n",
    "plt.axvline(x=tC, color='g', label='tD')\n",
    "plt.axvline(x=tD, color='y', label='tE')\n",
    "\n",
    "plt.legend(bbox_to_anchor=(1.0, 1), loc='upper left')\n",
    "plt.show()\n"
   ]
  },
  {
   "cell_type": "code",
   "execution_count": null,
   "metadata": {},
   "outputs": [],
   "source": [
    "# Great work \n",
    "# Now consider an old bowling alley has one lane that is frictionless except one patch CD\n",
    "# where would the angular momentum of the ball about its COM change?\n",
    "# angular momentum L , angular velocity v , mass m radius r\n",
    "# L = mvr\n",
    "# angular velocity only changes when the friction section CD apply a torque\n",
    "# m and r being constant this is where too the angular velocity would need to change\n"
   ]
  },
  {
   "cell_type": "code",
   "execution_count": null,
   "metadata": {},
   "outputs": [],
   "source": [
    "# "
   ]
  }
 ],
 "metadata": {
  "kernelspec": {
   "display_name": "Python 3",
   "language": "python",
   "name": "python3"
  },
  "language_info": {
   "codemirror_mode": {
    "name": "ipython",
    "version": 3
   },
   "file_extension": ".py",
   "mimetype": "text/x-python",
   "name": "python",
   "nbconvert_exporter": "python",
   "pygments_lexer": "ipython3",
   "version": "3.7.6"
  }
 },
 "nbformat": 4,
 "nbformat_minor": 4
}
